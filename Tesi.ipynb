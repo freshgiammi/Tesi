{
 "cells": [
  {
   "cell_type": "code",
   "execution_count": 1,
   "metadata": {
    "execution": {
     "iopub.execute_input": "2020-10-28T11:48:30.990Z",
     "iopub.status.busy": "2020-10-28T11:48:30.984Z",
     "iopub.status.idle": "2020-10-28T11:48:31.017Z",
     "shell.execute_reply": "2020-10-28T11:48:31.027Z"
    },
    "scrolled": false
   },
   "outputs": [
    {
     "output_type": "stream",
     "name": "stdout",
     "text": [
      "User Guide: https://docs.kepler.gl/docs/keplergl-jupyter\n"
     ]
    },
    {
     "output_type": "display_data",
     "data": {
      "text/plain": "KeplerGl(config={'version': 'v1', 'config': {'visState': {'filters': [], 'layers': [{'id': 'k75ulfp', 'type': …",
      "application/vnd.jupyter.widget-view+json": {
       "version_major": 2,
       "version_minor": 0,
       "model_id": "6d6586b86d7248a9adb3138bb12742aa"
      }
     },
     "metadata": {}
    }
   ],
   "source": [
    "from keplergl import KeplerGl\n",
    "import json\n",
    "import networkx\n",
    "import uuid\n",
    "\n",
    "censimento = json.load(open('dataset_completo.geojson'))\n",
    "    \n",
    "#Load Map config\n",
    "%run 'Censimento_Milano_2011/config.py'\n",
    "\n",
    "map = KeplerGl(data={\"censimento_milano_2011\": censimento},config=config)\n",
    "map"
   ]
  },
  {
   "cell_type": "code",
   "execution_count": 2,
   "metadata": {
    "tags": []
   },
   "outputs": [
    {
     "output_type": "stream",
     "name": "stdout",
     "text": [
      "Codice sezione: 1\nPopolazione: 15.0\nNumero di edifici ad uso residenziale: 1\nNumero di abitazioni totali ad uso residenziale: 8\nNumero di abitanti per appartamento ad uso residenziale: 1.875\nNumero medio di componenti delle famiglie: 1.75\nAbitanti nella fascia 15-64: 6\nAbitanti < 15: 1\nAbitanti > 65: 8\nOver 65+ che vivono da soli: 2\n\n\n0\nCodice sezione: 2\nPopolazione: 21.0\nNumero di edifici ad uso residenziale: 2\nNumero di abitazioni totali ad uso residenziale: 9\nNumero di abitanti per appartamento ad uso residenziale: 2.3333333333333335\nNumero medio di componenti delle famiglie: 2.4\nAbitanti nella fascia 15-64: 14\nAbitanti < 15: 4\nAbitanti > 65: 3\nOver 65+ che vivono da soli: 0\n\n\n50\nCodice sezione: 3\nPopolazione: 22.0\nNumero di edifici ad uso residenziale: 2\nNumero di abitazioni totali ad uso residenziale: 18\nNumero di abitanti per appartamento ad uso residenziale: 1.2222222222222223\nNumero medio di componenti delle famiglie: 1.11\nAbitanti nella fascia 15-64: 7\nAbitanti < 15: 0\nAbitanti > 65: 15\nOver 65+ che vivono da soli: 8\n\n\n0\n"
     ]
    }
   ],
   "source": [
    "#Sezione-based randomic family generator\n",
    "\n",
    "settori = []\n",
    "id_familiare = 1\n",
    "\n",
    "for i in censimento.get(\"features\"):\n",
    "    if (i.get(\"properties\").get(\"POP_2010\") == 0 or i.get(\"indicatori\").get(\"1\") == '' or i.get(\"indicatori\").get(\"1\") == \"0\"):\n",
    "        continue\n",
    "    print(\"Codice sezione:\",i.get(\"properties\").get(\"SEZ\"))\n",
    "    POP_2010 = i.get(\"properties\").get(\"POP_2010\")\n",
    "    edifici = round(POP_2010/float(i.get(\"indicatori\").get(\"1\")))\n",
    "    appartamenti = round(edifici*float(i.get(\"indicatori\").get(\"3\")))\n",
    "    print(\"Popolazione:\",POP_2010)\n",
    "    print(\"Numero di edifici ad uso residenziale:\", edifici)\n",
    "    print(\"Numero di abitazioni totali ad uso residenziale:\", appartamenti)\n",
    "    if (appartamenti!=0):\n",
    "        print(\"Numero di abitanti per appartamento ad uso residenziale:\", POP_2010/appartamenti)\n",
    "        print(\"Numero medio di componenti delle famiglie:\", i.get(\"indicatori\").get(\"39\"))\n",
    "    #print(\"Percentuale di 65+ che vivono da soli:\",i.get(\"indicatori\").get(\"17\"))\n",
    "    #print(\"Percentuale di bambini in età prescolare:\",i.get(\"indicatori\").get(\"8\"))\n",
    "\n",
    "    #Percentuali esterne alla fascia 15-64\n",
    "    if (i.get(\"indicatori\").get(\"25\") != '' and i.get(\"indicatori\").get(\"26\") != ''):\n",
    "        young = float(i.get(\"indicatori\").get(\"25\"))\n",
    "        old = float(i.get(\"indicatori\").get(\"26\"))\n",
    "        Y = old + young\n",
    "\n",
    "        X = (100+Y)/100\n",
    "        mid_percent = 100/X\n",
    "        old_percent = old/X\n",
    "        young_percent = young/X\n",
    "\n",
    "        anziani = round((POP_2010/100)*(old_percent))\n",
    "        giovani = round((POP_2010/100)*(young_percent))\n",
    "        attivi = round((POP_2010/100)*mid_percent)\n",
    "\n",
    "        print(\"Abitanti nella fascia 15-64:\", attivi)\n",
    "        #print(\"Abitanti fuori dalla fascia 15-64:\",anziani+giovani)\n",
    "        print(\"Abitanti < 15:\", giovani)\n",
    "        print(\"Abitanti > 65:\", anziani)\n",
    "        print(\"Over 65+ che vivono da soli:\",round(((round((POP_2010/100)*(old_percent)))/100*float(i.get(\"indicatori\").get(\"27\")))))\n",
    "        print()\n",
    "\n",
    "        settore = []\n",
    "\n",
    "        #65+ old solo families generator\n",
    "        for j in range (0,round(((round((POP_2010/100)*(old_percent)))/100*float(i.get(\"indicatori\").get(\"27\"))))):\n",
    "            fam = {}\n",
    "            members = []\n",
    "            obj = {}\n",
    "            obj[\"uuid\"] = uuid.uuid4()\n",
    "            obj[\"age\"] = \"old\"\n",
    "            fam[\"family_id\"] = id_familiare\n",
    "            members.append(obj)\n",
    "            fam[\"members\"] = members\n",
    "            id_familiare = id_familiare + 1\n",
    "            settore.append(fam)\n",
    "\n",
    "        #Remove created families from 65+\n",
    "        POP_2010 = POP_2010 - round(((round((POP_2010/100)*(old_percent)))/100*float(i.get(\"indicatori\").get(\"27\"))))\n",
    "        appartamenti = appartamenti - round(((round((POP_2010/100)*(old_percent)))/100*float(i.get(\"indicatori\").get(\"27\"))))\n",
    "\n",
    "        print()\n",
    "        print(i.get(\"indicatori\").get(\"14\"))\n",
    "        if (POP_2010!=round(((POP_2010/100)*mid_percent+(POP_2010/100)*(old_percent + young_percent)))):\n",
    "            print(POP_2010)\n",
    "            print(round((POP_2010/100)*mid_percent+(POP_2010/100)*(old_percent + young_percent)))\n",
    "        if (i.get(\"properties\").get(\"SEZ\")==3):\n",
    "            break\n",
    "    \n",
    "\n",
    "\n",
    " \n"
   ]
  }
 ],
 "metadata": {
  "kernelspec": {
   "display_name": "Python 3",
   "language": "python",
   "name": "python3"
  },
  "language_info": {
   "codemirror_mode": {
    "name": "ipython",
    "version": 3
   },
   "file_extension": ".py",
   "mimetype": "text/x-python",
   "name": "python",
   "nbconvert_exporter": "python",
   "pygments_lexer": "ipython3",
   "version": "3.7.9-final"
  },
  "nteract": {
   "version": "0.26.0"
  }
 },
 "nbformat": 4,
 "nbformat_minor": 4
}