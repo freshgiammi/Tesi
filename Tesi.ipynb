{
 "cells": [
  {
   "cell_type": "code",
   "execution_count": 10,
   "metadata": {
    "execution": {
     "iopub.execute_input": "2020-10-28T11:48:30.990Z",
     "iopub.status.busy": "2020-10-28T11:48:30.984Z",
     "iopub.status.idle": "2020-10-28T11:48:31.017Z",
     "shell.execute_reply": "2020-10-28T11:48:31.027Z"
    },
    "scrolled": false
   },
   "outputs": [
    {
     "name": "stdout",
     "output_type": "stream",
     "text": [
      "User Guide: https://docs.kepler.gl/docs/keplergl-jupyter\n"
     ]
    },
    {
     "data": {
      "application/vnd.jupyter.widget-view+json": {
       "model_id": "c4a69f4cfc944c7dbf7ccade0b762168",
       "version_major": 2,
       "version_minor": 0
      },
      "text/plain": [
       "KeplerGl(config={'version': 'v1', 'config': {'visState': {'filters': [], 'layers': [{'id': 'k75ulfp', 'type': …"
      ]
     },
     "metadata": {},
     "output_type": "display_data"
    }
   ],
   "source": [
    "from keplergl import KeplerGl\n",
    "import json\n",
    "\n",
    "# Load GeoJSON\n",
    "with open('Censimento_Milano_2011/sezioni_censimento_2011.geojson', 'r') as f:\n",
    "    censimento = f.read()\n",
    "    \n",
    "#Load Map config\n",
    "%run 'Censimento_Milano_2011/config.py'\n",
    "\n",
    "map = KeplerGl(data={\"censimento_milano_2011\": censimento},config=config)\n",
    "map"
   ]
  },
  {
   "cell_type": "code",
   "execution_count": 7,
   "metadata": {},
   "outputs": [
    {
     "name": "stdout",
     "output_type": "stream",
     "text": [
      "1306545.0\n"
     ]
    }
   ],
   "source": [
    "dataset_indicatori = json.load(open('Indicatori/ds385_popolazione_indicatori_popolazione_famiglie_2011_breve-1.json'))\n",
    "dataset_censimento = json.load(open('Censimento_Milano_2011/sezioni_censimento_2011.geojson'))\n",
    "\n",
    "#Data reorganization\n",
    "list = []\n",
    "\n",
    "for i in dataset_indicatori:\n",
    "    obj = {}\n",
    "    for j in i:\n",
    "        index = j.split(')',1)[0]\n",
    "        if (index == \"2\" or index == \"3\" or index == \"4\" or index == \"9\" or index == \"14\" or index == \"15\" or index == \"18\" or index == \"28\" or index == \"35\" or index == \"40\" or index == \"41\"):\n",
    "            obj[j.split(')',1)[0]] = i.get(j)\n",
    "        else:\n",
    "            continue\n",
    "    list.append(obj)\n",
    "\n",
    "#Data sorting\n",
    "indicatori = {\"legenda\":[\"1) Numero medio di residenti per edificio ad uso residenziale\",\"2) Numero medio di abitazioni per edificio ad uso residenziale\",\n",
    "\"3) Numero medio di abitazioni occupate da residenti per edificio ad uso residenziale\",\"8) Percentuale di bambini in età prescolare\",\"13) Percentuale di abitazioni non occupate\",\n",
    "\"14) Percentuale di famiglie monogenitore\",\"17) Percentuale di 65+ che vivono da soli\",\"27) Percentuale di popolazione 15+ che percepisce reddito sul totale della popolazione 15+\",\n",
    "\"34) Percentuale di popolazione residente che si sposta giornalmente per studio o lavoro\",\"39) Numero medio di componenti delle famiglie\",\n",
    "\"40) Percentuale di famiglie di un componente\"],\"indicatori\":[]}\n",
    "for i in list:\n",
    "    obj_2 = {}\n",
    "    for j in range(2,45):\n",
    "        if (i.get(str(j))== None):\n",
    "            continue\n",
    "        else:\n",
    "            obj_2[j-1] = i.get(str(j))\n",
    "    indicatori.get(\"indicatori\").append(obj_2)\n",
    "\n",
    "#sum = 0\n",
    "#for i in dataset_censimento.get('features'):\n",
    "#        sum = sum+(i.get(\"properties\").get(\"POP_2010\"))\n",
    "#print(sum)\n",
    "\n",
    " "
   ]
  },
  {
   "cell_type": "code",
   "execution_count": null,
   "metadata": {},
   "outputs": [],
   "source": []
  }
 ],
 "metadata": {
  "kernelspec": {
   "display_name": "Python 3",
   "language": "python",
   "name": "python3"
  },
  "language_info": {
   "codemirror_mode": {
    "name": "ipython",
    "version": 3
   },
   "file_extension": ".py",
   "mimetype": "text/x-python",
   "name": "python",
   "nbconvert_exporter": "python",
   "pygments_lexer": "ipython3",
   "version": "3.7.6"
  },
  "nteract": {
   "version": "0.26.0"
  }
 },
 "nbformat": 4,
 "nbformat_minor": 4
}
